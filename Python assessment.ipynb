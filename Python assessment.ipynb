{
 "cells": [
  {
   "cell_type": "markdown",
   "id": "1749de73",
   "metadata": {},
   "source": [
    "# SECTION I\n",
    "\n",
    "# 1.write the output of the following program\n",
    "\n"
   ]
  },
  {
   "cell_type": "code",
   "execution_count": 1,
   "id": "112db89d",
   "metadata": {},
   "outputs": [
    {
     "name": "stdout",
     "output_type": "stream",
     "text": [
      "['e', 'd', 'c', 'b', 'a']\n"
     ]
    }
   ],
   "source": [
    "k=[\"a\",\"b\",\"c\",\"d\",\"e\"]\n",
    "print(k[-1:-7:-1])"
   ]
  },
  {
   "cell_type": "markdown",
   "id": "5e73a862",
   "metadata": {},
   "source": [
    "# 2. reverese the list using python\n",
    "\n"
   ]
  },
  {
   "cell_type": "code",
   "execution_count": 2,
   "id": "ddb41641",
   "metadata": {},
   "outputs": [
    {
     "name": "stdout",
     "output_type": "stream",
     "text": [
      "[[500, 400, 300, 200, 100]]\n"
     ]
    }
   ],
   "source": [
    "list1=[100,200,300,400,500]\n",
    "reverse_list1=[list1[::-1]]\n",
    "print(reverse_list1)\n"
   ]
  },
  {
   "cell_type": "markdown",
   "id": "f5b55e97",
   "metadata": {},
   "source": [
    "# 3.write a python program to find the maximum of two numbers\n",
    "\n"
   ]
  },
  {
   "cell_type": "code",
   "execution_count": 3,
   "id": "3b93a17a",
   "metadata": {},
   "outputs": [
    {
     "name": "stdout",
     "output_type": "stream",
     "text": [
      "enter first number: 12\n",
      "enter second number: 20\n",
      "20 is larger than 12\n"
     ]
    }
   ],
   "source": [
    "a=int(input(\"enter first number: \"))\n",
    "b=int(input(\"enter second number: \"))\n",
    "if a>b:\n",
    "    print(f\"{a} is larger than {b}\")\n",
    "else:\n",
    "    print(f\"{b} is larger than {a}\")"
   ]
  },
  {
   "cell_type": "markdown",
   "id": "745bfe2f",
   "metadata": {},
   "source": [
    "# 4.write a python program to find the square of 5.\n",
    "\n"
   ]
  },
  {
   "cell_type": "code",
   "execution_count": 4,
   "id": "0dfb027a",
   "metadata": {},
   "outputs": [
    {
     "name": "stdout",
     "output_type": "stream",
     "text": [
      "square of 5 is 25\n"
     ]
    }
   ],
   "source": [
    "def square_of_5():\n",
    "    a=5\n",
    "    print(f\"square of 5 is {5*5}\")\n",
    "    \n",
    "square_of_5()"
   ]
  },
  {
   "cell_type": "markdown",
   "id": "6b57e823",
   "metadata": {},
   "source": [
    "# 5.write a python program to find sum of all items in a dictionary.\n",
    "\n",
    "\n"
   ]
  },
  {
   "cell_type": "code",
   "execution_count": 5,
   "id": "bbd2ac0c",
   "metadata": {},
   "outputs": [
    {
     "name": "stdout",
     "output_type": "stream",
     "text": [
      "sum : 600\n"
     ]
    }
   ],
   "source": [
    "\n",
    "def sum1(dict1):\n",
    "    sum=0\n",
    "    for i in dict1:\n",
    "        sum+=dict1[i]\n",
    "    return sum\n",
    "\n",
    "dict1={\"a\":100,\"b\":200,\"c\":300}\n",
    "dict_sum=sum1(dict1)\n",
    "print(f\"sum : {dict_sum}\")"
   ]
  },
  {
   "cell_type": "markdown",
   "id": "f414fe98",
   "metadata": {},
   "source": [
    "# SECTION II"
   ]
  },
  {
   "cell_type": "markdown",
   "id": "8ff0d0c8",
   "metadata": {},
   "source": [
    "# 6.write a python program to find the current year month and day\n",
    " \n"
   ]
  },
  {
   "cell_type": "code",
   "execution_count": 6,
   "id": "1ef1e0cf",
   "metadata": {},
   "outputs": [
    {
     "name": "stdout",
     "output_type": "stream",
     "text": [
      "date: 2022-12-11\n",
      "current day: 11\n",
      "current month: 12\n",
      "current year: 2022\n"
     ]
    }
   ],
   "source": [
    "from datetime import date\n",
    "\n",
    "todays_date=date.today()\n",
    "print(f\"date: {todays_date}\")\n",
    "\n",
    "print(f\"current day: {todays_date.day}\")\n",
    "print(f\"current month: {todays_date.month}\")\n",
    "print(f\"current year: {todays_date.year}\")"
   ]
  },
  {
   "cell_type": "markdown",
   "id": "ec27c8b9",
   "metadata": {},
   "source": [
    "# 7. Write a Python program to construct the following pattern, using a\n"
   ]
  },
  {
   "cell_type": "code",
   "execution_count": 7,
   "id": "fcfbe63b",
   "metadata": {},
   "outputs": [
    {
     "data": {
      "text/plain": [
       "'\"nested for loop.\\n*\\n**\\n***\\n****\\n*****\\n****\\n***\\n**\\n*'"
      ]
     },
     "execution_count": 7,
     "metadata": {},
     "output_type": "execute_result"
    }
   ],
   "source": [
    "\"\"\"\"nested for loop.\n",
    "*\n",
    "**\n",
    "***\n",
    "****\n",
    "*****\n",
    "****\n",
    "***\n",
    "**\n",
    "*\"\"\""
   ]
  },
  {
   "cell_type": "code",
   "execution_count": 8,
   "id": "a86ddabc",
   "metadata": {},
   "outputs": [
    {
     "name": "stdout",
     "output_type": "stream",
     "text": [
      "enter the no of rows: 3\n",
      "\n",
      "*\n",
      "**\n",
      "***\n",
      "****\n",
      "***\n",
      "**\n",
      "*\n"
     ]
    }
   ],
   "source": [
    "n=int(input(\"enter the no of rows: \"))\n",
    "for i in range(0,n+1):\n",
    "    for j in range(0,i):\n",
    "        print(\"*\",end=\"\")\n",
    "    print(\"\\r\")\n",
    "    \n",
    "for i in range(n+1,0,-1):\n",
    "    for j in range(i,0,-1):\n",
    "        print(\"*\",end=\"\")\n",
    "    print(\"\\r\")"
   ]
  },
  {
   "cell_type": "markdown",
   "id": "024131a7",
   "metadata": {},
   "source": [
    "# # 8. Write a python function to calculate the factorial of a number (a non\n",
    "#negative integer). The function accepts the number as an argument"
   ]
  },
  {
   "cell_type": "code",
   "execution_count": 10,
   "id": "472ab312",
   "metadata": {},
   "outputs": [
    {
     "name": "stdout",
     "output_type": "stream",
     "text": [
      "Enter a number to compute the factiorial : 3\n",
      "factorial of 3 is 6\n"
     ]
    }
   ],
   "source": [
    "def factorial(n):\n",
    "    if n == 0:\n",
    "        return 1\n",
    "    else:\n",
    "        return n * factorial(n-1)\n",
    "n=int(input(\"Enter a number to compute the factiorial : \"))\n",
    "print(f\"factorial of {n} is {factorial(n)}\")\n"
   ]
  },
  {
   "cell_type": "markdown",
   "id": "78f80ed6",
   "metadata": {},
   "source": [
    "# SECTION III"
   ]
  },
  {
   "cell_type": "markdown",
   "id": "aafb954a",
   "metadata": {},
   "source": [
    "# 11.Write a python program to print the numbers from a given number n\n",
    "till 0 using recursion"
   ]
  },
  {
   "cell_type": "code",
   "execution_count": 11,
   "id": "e51298a1",
   "metadata": {},
   "outputs": [
    {
     "name": "stdout",
     "output_type": "stream",
     "text": [
      "Enter a number for recursion: 3\n",
      "0\n",
      "1\n",
      "2\n",
      "3\n"
     ]
    }
   ],
   "source": [
    "n = int(input(\"Enter a number for recursion: \"))\n",
    "\n",
    "def rec(n):\n",
    "    if n==0:\n",
    "        print(0)\n",
    "    else:\n",
    "    \n",
    "        rec(n-1)\n",
    "        print(n)\n",
    "\n",
    "rec(n)"
   ]
  },
  {
   "cell_type": "markdown",
   "id": "caf75ec3",
   "metadata": {},
   "source": [
    "# 12. Modify the element of a nested list inside the following list:\n",
    "Sample input : list1 = [5, [10, 15, [20, 25, [30, 35], 40], 45], 50]\n",
    "Change the element 35 to 3500"
   ]
  },
  {
   "cell_type": "code",
   "execution_count": 12,
   "id": "3f8ca86e",
   "metadata": {},
   "outputs": [
    {
     "name": "stdout",
     "output_type": "stream",
     "text": [
      "[5, [10, 15, [20, 25, [30, 3500], 40], 45], 50]\n"
     ]
    }
   ],
   "source": [
    "l = [5, [10, 15, [20, 25, [30, 35], 40], 45], 50]\n",
    "l[1][2][2][1]=3500\n",
    "print(l)"
   ]
  },
  {
   "cell_type": "markdown",
   "id": "6cf83fd3",
   "metadata": {},
   "source": [
    "# 15. Python program to convert the temperature in degree centigrade to\n",
    "Fahrenheit and vice versa"
   ]
  },
  {
   "cell_type": "code",
   "execution_count": 13,
   "id": "5281ced7",
   "metadata": {},
   "outputs": [
    {
     "name": "stdout",
     "output_type": "stream",
     "text": [
      "1.convert the temperature in degree centigrade to Fahrenheit :\n",
      "2.convert the temperature in Fahrenheit to degree centigrade : \n",
      "Enter your choice 1\n",
      "enter the temperature in degree centigrate : 37\n",
      "37.0 degree Celsius is equal to 98.60000000000001 degree Fahrenheit \n",
      "1.convert the temperature in degree centigrade to Fahrenheit :\n",
      "2.convert the temperature in Fahrenheit to degree centigrade : \n",
      "Enter your choice 2\n",
      "enter the temperature in degree fahrenheit : 98\n",
      "98.0 degree Celsius is equal to 36.66666666666667 degree Fahrenheit \n",
      "1.convert the temperature in degree centigrade to Fahrenheit :\n",
      "2.convert the temperature in Fahrenheit to degree centigrade : \n",
      "Enter your choice 3\n",
      "please enter given choice: \n"
     ]
    }
   ],
   "source": [
    "while True:\n",
    "    \n",
    "    print(\"1.convert the temperature in degree centigrade to Fahrenheit :\")\n",
    "    \n",
    "    print(\"2.convert the temperature in Fahrenheit to degree centigrade : \")\n",
    "    \n",
    "    choice=int(input(\"Enter your choice \"))\n",
    "    if choice==1:\n",
    "        celsius=float(input(\"enter the temperature in degree centigrate : \"))\n",
    "        fahrenheit = (celsius * 1.8) + 32\n",
    "        print(f\"{celsius} degree Celsius is equal to {fahrenheit} degree Fahrenheit \" )\n",
    "        \n",
    "    elif choice==2:\n",
    "        fahrenheit =float(input(\"enter the temperature in degree fahrenheit : \"))\n",
    "        celsius=5/9 * ( fahrenheit - 32) \n",
    "        print((f\"{fahrenheit} degree Celsius is equal to {celsius} degree Fahrenheit \" ))\n",
    "    else:\n",
    "        print(\"please enter given choice: \")\n",
    "        break\n",
    "        "
   ]
  },
  {
   "cell_type": "code",
   "execution_count": null,
   "id": "7bf1d2a0",
   "metadata": {},
   "outputs": [],
   "source": []
  }
 ],
 "metadata": {
  "kernelspec": {
   "display_name": "Python 3 (ipykernel)",
   "language": "python",
   "name": "python3"
  },
  "language_info": {
   "codemirror_mode": {
    "name": "ipython",
    "version": 3
   },
   "file_extension": ".py",
   "mimetype": "text/x-python",
   "name": "python",
   "nbconvert_exporter": "python",
   "pygments_lexer": "ipython3",
   "version": "3.9.13"
  }
 },
 "nbformat": 4,
 "nbformat_minor": 5
}
